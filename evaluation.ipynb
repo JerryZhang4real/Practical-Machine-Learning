{
 "cells": [
  {
   "cell_type": "code",
   "execution_count": null,
   "metadata": {},
   "outputs": [
    {
     "name": "stderr",
     "output_type": "stream",
     "text": [
      "C:\\Users\\zjr02\\AppData\\Roaming\\Python\\Python312\\site-packages\\torchvision\\models\\_utils.py:208: UserWarning: The parameter 'pretrained' is deprecated since 0.13 and may be removed in the future, please use 'weights' instead.\n",
      "  warnings.warn(\n",
      "C:\\Users\\zjr02\\AppData\\Roaming\\Python\\Python312\\site-packages\\torchvision\\models\\_utils.py:223: UserWarning: Arguments other than a weight enum or `None` for 'weights' are deprecated since 0.13 and may be removed in the future. The current behavior is equivalent to passing `weights=ResNet152_Weights.IMAGENET1K_V1`. You can also use `weights=ResNet152_Weights.DEFAULT` to get the most up-to-date weights.\n",
      "  warnings.warn(msg)\n"
     ]
    }
   ],
   "source": [
    "import torch\n",
    "import os\n",
    "from model_training import MultiTaskColorModel\n",
    "\n",
    "device = torch.device('cuda' if torch.cuda.is_available() else 'cpu')\n",
    "\n",
    "model_folder = 'models'\n",
    "model_name = '100_0.1_1.0_color_model.pth'\n",
    "model_path = os.path.join(model_folder, model_name)\n",
    "# model_path = 'Normalized_100_1.0_1.0_color_model.pth'\n",
    "# model_name = '100_0.1_1.0_color_model.pth'\n",
    "# model_path = '50_1.0_1.0_color_model.pth'\n",
    "# model_path = '50_0.0_1.0_color_model.pth'\n",
    "# model_path = 'ResNet_152_50_0.1_1.0.pth'\n",
    "# model_path = 'ResNet_152_50_0.1_1.0_v2.pth';\n",
    "model = MultiTaskColorModel(num_classes=8, regression_output_size=4)\n",
    "# model = torch.load('100_0.1_color_model.pth', weights_only=False)\n",
    "model.load_state_dict(torch.load(model_path, weights_only=True))\n",
    "model = model.to(device)\n",
    "\n",
    "model.eval()\n",
    "total_correct = 0\n",
    "total_samples = 0\n",
    "total_reg_loss = 0.0\n"
   ]
  },
  {
   "cell_type": "code",
   "execution_count": 4,
   "metadata": {},
   "outputs": [
    {
     "name": "stdout",
     "output_type": "stream",
     "text": [
      "Validation Accuracy: 81.25%\n",
      "Average Regression Loss: 10.2882\n"
     ]
    }
   ],
   "source": [
    "from model_training import ColorDataset\n",
    "from torch.utils.data import DataLoader\n",
    "from torchvision import transforms\n",
    "from torch import nn\n",
    "\n",
    "csv_file = r'D:\\COSI149\\color_with_label\\label.csv'\n",
    "img_dir = r'D:\\COSI149\\color_with_label'\n",
    "original_transform = transforms.Compose([\n",
    "    transforms.Resize((224, 224)),\n",
    "    transforms.ToTensor(),\n",
    "    # if trainning data was normalized, then test data should also be normalized\n",
    "    # transforms.Normalize(mean=[0.485, 0.456, 0.406], std=[0.229, 0.224, 0.225])\n",
    "])\n",
    "\n",
    "dataset = ColorDataset(csv_file=csv_file, img_dir=img_dir, transform=original_transform)\n",
    "dataloader = DataLoader(dataset, batch_size=32, shuffle=True)\n",
    "\n",
    "\n",
    "criterion_class = nn.CrossEntropyLoss()\n",
    "criterion_reg = nn.MSELoss()\n",
    "\n",
    "with torch.no_grad():\n",
    "    for images, labels, color_codes, encoded_labels in dataloader:\n",
    "        images = images.to(device)\n",
    "        labels = encoded_labels.to(device)\n",
    "        color_codes = color_codes.to(device)\n",
    "\n",
    "        class_outputs, reg_outputs = model(images)\n",
    "\n",
    "        # Classifacation accuracy\n",
    "        _, predicted = torch.max(class_outputs, 1)\n",
    "        total_samples += labels.size(0)\n",
    "        total_correct += (predicted == labels).sum().item()\n",
    "\n",
    "        # Regression loss\n",
    "        loss_reg = criterion_reg(reg_outputs, color_codes)\n",
    "        total_reg_loss += loss_reg.item()\n",
    "\n",
    "    accuracy = total_correct / total_samples\n",
    "    avg_reg_loss = total_reg_loss / len(dataloader)\n",
    "    print(f\"Validation Accuracy: {accuracy*100:.2f}%\")\n",
    "    print(f\"Average Regression Loss: {avg_reg_loss:.4f}\")\n",
    "\n",
    "\n",
    "# record the model's performance with timestamp\n",
    "import datetime\n",
    "with open('model_performance.txt', 'a') as f:\n",
    "    f.write(f\"{datetime.datetime.now()}\\n\")\n",
    "    f.write(f\"Model: {model_path}\\n\")\n",
    "    f.write(f\"Validation Accuracy: {accuracy*100:.2f}%\\n\\n\")\n",
    "    "
   ]
  }
 ],
 "metadata": {
  "kernelspec": {
   "display_name": "base",
   "language": "python",
   "name": "python3"
  },
  "language_info": {
   "codemirror_mode": {
    "name": "ipython",
    "version": 3
   },
   "file_extension": ".py",
   "mimetype": "text/x-python",
   "name": "python",
   "nbconvert_exporter": "python",
   "pygments_lexer": "ipython3",
   "version": "3.12.3"
  }
 },
 "nbformat": 4,
 "nbformat_minor": 2
}
