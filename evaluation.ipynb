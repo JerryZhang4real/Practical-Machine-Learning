{
 "cells": [
  {
   "cell_type": "code",
   "execution_count": 47,
   "metadata": {},
   "outputs": [
    {
     "name": "stderr",
     "output_type": "stream",
     "text": [
      "C:\\Users\\zjr02\\AppData\\Roaming\\Python\\Python312\\site-packages\\torchvision\\models\\_utils.py:208: UserWarning: The parameter 'pretrained' is deprecated since 0.13 and may be removed in the future, please use 'weights' instead.\n",
      "  warnings.warn(\n",
      "C:\\Users\\zjr02\\AppData\\Roaming\\Python\\Python312\\site-packages\\torchvision\\models\\_utils.py:223: UserWarning: Arguments other than a weight enum or `None` for 'weights' are deprecated since 0.13 and may be removed in the future. The current behavior is equivalent to passing `weights=ResNet50_Weights.IMAGENET1K_V1`. You can also use `weights=ResNet50_Weights.DEFAULT` to get the most up-to-date weights.\n",
      "  warnings.warn(msg)\n"
     ]
    },
    {
     "name": "stdout",
     "output_type": "stream",
     "text": [
      "Model loaded from models\\ResNet50_50_0.1_0.9_v2.pth\n"
     ]
    }
   ],
   "source": [
    "import torch\n",
    "import os\n",
    "from model_training import MultiTaskColorModel\n",
    "\n",
    "device = torch.device('cuda' if torch.cuda.is_available() else 'cpu')\n",
    "\n",
    "model_folder = 'models'\n",
    "model_name = 'ResNet50_50_0.1_0.9_v2.pth'\n",
    "# model_name = 'ResNet50_50_0.1_0.9.pth'\n",
    "# model_name = '100_0.1_1.0_color_model.pth'\n",
    "model_path = os.path.join(model_folder, model_name)\n",
    "# model_path = 'Normalized_100_1.0_1.0_color_model.pth'\n",
    "# model_name = '100_0.1_1.0_color_model.pth'\n",
    "# model_path = '50_1.0_1.0_color_model.pth'\n",
    "# model_path = '50_0.0_1.0_color_model.pth'\n",
    "# model_path = 'ResNet_152_50_0.1_1.0.pth'\n",
    "# model_path = 'ResNet_152_50_0.1_1.0_v2.pth';\n",
    "model = MultiTaskColorModel(num_classes=8, regression_output_size=4)\n",
    "# model = torch.load('100_0.1_color_model.pth', weights_only=False)\n",
    "model.load_state_dict(torch.load(model_path, weights_only=True))\n",
    "print('Model loaded from {}'.format(model_path))\n",
    "\n",
    "model = model.to(device)\n",
    "\n",
    "model.eval()\n",
    "total_correct = 0\n",
    "total_samples = 0\n",
    "total_reg_loss = 0.0\n"
   ]
  },
  {
   "cell_type": "code",
   "execution_count": null,
   "metadata": {},
   "outputs": [
    {
     "data": {
      "image/png": "[encoded data removed]",
      "text/plain": [
       "<Figure size 1000x800 with 2 Axes>"
      ]
     },
     "metadata": {},
     "output_type": "display_data"
    },
    {
     "name": "stdout",
     "output_type": "stream",
     "text": [
      "[(0, 'P460-3M'), (1, 'P470-3U'), (2, 'P470-4M'), (3, 'P480-3U'), (4, 'P480-4M'), (5, 'P490-3U'), (6, 'P490-4M'), (7, 'P490-5M')]\n",
      "Total samples: 48\n",
      "Validation Accuracy: 75.00%\n",
      "Average Regression Loss: 34.2389\n"
     ]
    }
   ],
   "source": [
    "from model_training import ColorDataset\n",
    "from torch.utils.data import DataLoader\n",
    "from torchvision import transforms\n",
    "from torch import nn\n",
    "\n",
    "import seaborn as sns\n",
    "import matplotlib.pyplot as plt\n",
    "from sklearn.metrics import confusion_matrix\n",
    "\n",
    "csv_file = r'D:\\COSI149\\color_with_label\\label.csv'\n",
    "img_dir = r'D:\\COSI149\\color_with_label'\n",
    "original_transform = transforms.Compose([\n",
    "    transforms.Resize((224, 224)),\n",
    "    transforms.ToTensor(),\n",
    "    # if trainning data was normalized, then test data should also be normalized\n",
    "    # transforms.Normalize(mean=[0.485, 0.456, 0.406], std=[0.229, 0.224, 0.225])\n",
    "])\n",
    "\n",
    "dataset = ColorDataset(csv_file=csv_file, img_dir=img_dir, transform=original_transform)\n",
    "dataloader = DataLoader(dataset, batch_size=48, shuffle=True)\n",
    "\n",
    "criterion_class = nn.CrossEntropyLoss()\n",
    "criterion_reg = nn.MSELoss()\n",
    "\n",
    "with torch.no_grad():\n",
    "    all_labels = []\n",
    "    all_predicted = []\n",
    "    encoded_mapping = {}\n",
    "    \n",
    "    for images, labels, color_codes, encoded_labels in dataloader:\n",
    "        images = images.to(device)\n",
    "        encoded_labels = encoded_labels.to(device)\n",
    "        color_codes = color_codes.to(device)\n",
    "\n",
    "        class_outputs, reg_outputs = model(images)\n",
    "\n",
    "        encoded_mapping = {encoded_label : label for encoded_label, label in zip(encoded_labels.tolist(), labels)}\n",
    "        encoded_mapping = sorted(encoded_mapping.items(), key=lambda x: x[0])\n",
    "        # Classifacation accuracy\n",
    "        _, predicted = torch.max(class_outputs, 1)\n",
    "        total_samples += encoded_labels.size(0)\n",
    "        total_correct += (predicted == encoded_labels).sum().item()\n",
    "        # print(f\"predicted: {predicted.tolist()}\\n labels: {labels.tolist()}\\n\")\n",
    "        all_labels += encoded_labels.tolist()\n",
    "        all_predicted += predicted.tolist()\n",
    "\n",
    "        # Regression loss\n",
    "        loss_reg = criterion_reg(reg_outputs, color_codes)\n",
    "        total_reg_loss += loss_reg.item()\n",
    "\n",
    "    # show the confusion matrix\n",
    "\n",
    "\n",
    "    # Compute confusion matrix\n",
    "    cm = confusion_matrix(all_labels, all_predicted)\n",
    "\n",
    "    # Plot confusion matrix\n",
    "    plt.figure(figsize=(10, 8))\n",
    "    sns.heatmap(cm, annot=True, fmt='d', cmap='Blues')\n",
    "    plt.xlabel('Predicted')\n",
    "    plt.ylabel('True')\n",
    "    plt.title('Confusion Matrix')\n",
    "    plt.show()\n",
    "\n",
    "    print(encoded_mapping)\n",
    "\n",
    "    print(f\"Total samples: {total_samples}\")\n",
    "    accuracy = total_correct / total_samples\n",
    "    avg_reg_loss = total_reg_loss / len(dataloader)\n",
    "    print(f\"Validation Accuracy: {accuracy*100:.2f}%\")\n",
    "    print(f\"Average Regression Loss: {avg_reg_loss:.4f}\")\n",
    "\n",
    "\n",
    "# record the model's performance with timestamp\n",
    "import datetime\n",
    "\n",
    "with open('model_performance.txt', 'a') as f:\n",
    "    f.write(f\"{datetime.datetime.now()}\\n\")\n",
    "    f.write(f\"Model: {model_path}\\n\")\n",
    "    f.write(f\"Validation Accuracy: {accuracy*100:.2f}%\\n\\n\")\n",
    "    "
   ]
  },
  {
   "cell_type": "code",
   "execution_count": null,
   "metadata": {},
   "outputs": [],
   "source": []
  }
 ],
 "metadata": {
  "kernelspec": {
   "display_name": "base",
   "language": "python",
   "name": "python3"
  },
  "language_info": {
   "codemirror_mode": {
    "name": "ipython",
    "version": 3
   },
   "file_extension": ".py",
   "mimetype": "text/x-python",
   "name": "python",
   "nbconvert_exporter": "python",
   "pygments_lexer": "ipython3",
   "version": "3.12.3"
  }
 },
 "nbformat": 4,
 "nbformat_minor": 2
}
